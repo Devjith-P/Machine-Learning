{
 "cells": [
  {
   "cell_type": "markdown",
   "id": "646a5e61",
   "metadata": {},
   "source": []
  },
  {
   "cell_type": "code",
   "execution_count": 1,
   "id": "021f072a",
   "metadata": {},
   "outputs": [],
   "source": [
    "import nltk"
   ]
  },
  {
   "cell_type": "code",
   "execution_count": 2,
   "id": "71baf7a5",
   "metadata": {},
   "outputs": [
    {
     "name": "stdout",
     "output_type": "stream",
     "text": [
      "Help on package nltk:\n",
      "\n",
      "NAME\n",
      "    nltk\n",
      "\n",
      "DESCRIPTION\n",
      "    The Natural Language Toolkit (NLTK) is an open source Python library\n",
      "    for Natural Language Processing.  A free online book is available.\n",
      "    (If you use the library for academic research, please cite the book.)\n",
      "\n",
      "    Steven Bird, Ewan Klein, and Edward Loper (2009).\n",
      "    Natural Language Processing with Python.  O'Reilly Media Inc.\n",
      "    https://www.nltk.org/book/\n",
      "\n",
      "    isort:skip_file\n",
      "\n",
      "    @version: 3.9.2\n",
      "\n",
      "PACKAGE CONTENTS\n",
      "    app (package)\n",
      "    book\n",
      "    ccg (package)\n",
      "    chat (package)\n",
      "    chunk (package)\n",
      "    classify (package)\n",
      "    cli\n",
      "    cluster (package)\n",
      "    collections\n",
      "    collocations\n",
      "    compat\n",
      "    corpus (package)\n",
      "    data\n",
      "    decorators\n",
      "    downloader\n",
      "    draw (package)\n",
      "    featstruct\n",
      "    grammar\n",
      "    help\n",
      "    inference (package)\n",
      "    internals\n",
      "    jsontags\n",
      "    langnames\n",
      "    lazyimport\n",
      "    lm (package)\n",
      "    metrics (package)\n",
      "    misc (package)\n",
      "    parse (package)\n",
      "    probability\n",
      "    sem (package)\n",
      "    sentiment (package)\n",
      "    stem (package)\n",
      "    tabdata\n",
      "    tag (package)\n",
      "    tbl (package)\n",
      "    test (package)\n",
      "    text\n",
      "    tgrep\n",
      "    tokenize (package)\n",
      "    toolbox\n",
      "    translate (package)\n",
      "    tree (package)\n",
      "    treeprettyprinter\n",
      "    treetransforms\n",
      "    twitter (package)\n",
      "    util\n",
      "    wsd\n",
      "\n",
      "SUBMODULES\n",
      "    agreement\n",
      "    aline\n",
      "    api\n",
      "    arlstem\n",
      "    arlstem2\n",
      "    association\n",
      "    bleu_score\n",
      "    bllip\n",
      "    boxer\n",
      "    brill\n",
      "    brill_trainer\n",
      "    casual\n",
      "    chart\n",
      "    chrf_score\n",
      "    cistem\n",
      "    confusionmatrix\n",
      "    corenlp\n",
      "    crf\n",
      "    decisiontree\n",
      "    dependencygraph\n",
      "    destructive\n",
      "    discourse\n",
      "    distance\n",
      "    drt\n",
      "    earleychart\n",
      "    evaluate\n",
      "    featurechart\n",
      "    gale_church\n",
      "    gdfa\n",
      "    gleu_score\n",
      "    glue\n",
      "    hmm\n",
      "    hunpos\n",
      "    ibm1\n",
      "    ibm2\n",
      "    ibm3\n",
      "    ibm4\n",
      "    ibm5\n",
      "    ibm_model\n",
      "    isri\n",
      "    lancaster\n",
      "    legality_principle\n",
      "    lfg\n",
      "    linearlogic\n",
      "    logic\n",
      "    mace\n",
      "    malt\n",
      "    mapping\n",
      "    maxent\n",
      "    megam\n",
      "    meteor_score\n",
      "    mwe\n",
      "    naivebayes\n",
      "    named_entity\n",
      "    nist_score\n",
      "    nonprojectivedependencyparser\n",
      "    paice\n",
      "    pchart\n",
      "    perceptron\n",
      "    phrase_based\n",
      "    porter\n",
      "    positivenaivebayes\n",
      "    projectivedependencyparser\n",
      "    prover9\n",
      "    punkt\n",
      "    recursivedescent\n",
      "    regexp\n",
      "    relextract\n",
      "    repp\n",
      "    resolution\n",
      "    ribes_score\n",
      "    rslp\n",
      "    rte_classify\n",
      "    scikitlearn\n",
      "    scores\n",
      "    segmentation\n",
      "    senna\n",
      "    sequential\n",
      "    sexpr\n",
      "    shiftreduce\n",
      "    simple\n",
      "    snowball\n",
      "    sonority_sequencing\n",
      "    spearman\n",
      "    stack_decoder\n",
      "    stanford\n",
      "    stanford_segmenter\n",
      "    tableau\n",
      "    tadm\n",
      "    textcat\n",
      "    texttiling\n",
      "    tnt\n",
      "    toktok\n",
      "    transitionparser\n",
      "    treebank\n",
      "    viterbi\n",
      "    weka\n",
      "    wordnet\n",
      "\n",
      "FUNCTIONS\n",
      "    demo()\n",
      "        # FIXME:  override any accidentally imported demo, see https://github.com/nltk/nltk/issues/2116\n",
      "\n",
      "    tee(iterable, n=2, /)\n",
      "        Returns a tuple of n independent iterators.\n",
      "\n",
      "DATA\n",
      "    PRETRAINED_TAGGERS = {'eng': 'taggers/averaged_perceptron_tagger_eng/'...\n",
      "    SLASH = *slash*\n",
      "    TYPE = *type*\n",
      "    __author_email__ = 'nltk.team@gmail.com'\n",
      "    __classifiers__ = ['Development Status :: 5 - Production/Stable', 'Int...\n",
      "    __copyright__ = 'Copyright (C) 2001-2025 NLTK Project.\\n\\nDistribut......\n",
      "    __keywords__ = ['NLP', 'CL', 'natural language processing', 'computati...\n",
      "    __license__ = 'Apache License, Version 2.0'\n",
      "    __longdescr__ = 'The Natural Language Toolkit (NLTK) is a Python ...TK...\n",
      "    __maintainer__ = 'NLTK Team'\n",
      "    __maintainer_email__ = 'nltk.team@gmail.com'\n",
      "    __url__ = 'https://www.nltk.org/'\n",
      "    app = <LazyModule 'nltk.app'>\n",
      "    chat = <LazyModule 'nltk.chat'>\n",
      "    corpus = <LazyModule 'nltk.corpus'>\n",
      "    draw = <LazyModule 'nltk.draw'>\n",
      "    infile = <_io.TextIOWrapper name='/home/devjith/Luminar/M...packages/n...\n",
      "    json_tags = {'!nltk.tag.BrillTagger': <class 'nltk.tag.brill.BrillTagg...\n",
      "    toolbox = <LazyModule 'nltk.toolbox'>\n",
      "    version_file = '/home/devjith/Luminar/Machine Learning/.venv/lib/pytho...\n",
      "\n",
      "VERSION\n",
      "    3.9.2\n",
      "\n",
      "AUTHOR\n",
      "    NLTK Team\n",
      "\n",
      "FILE\n",
      "    /home/devjith/Luminar/Machine Learning/.venv/lib/python3.12/site-packages/nltk/__init__.py\n",
      "\n",
      "\n"
     ]
    }
   ],
   "source": [
    "help (nltk)"
   ]
  },
  {
   "cell_type": "code",
   "execution_count": 3,
   "id": "436a4eb6",
   "metadata": {},
   "outputs": [],
   "source": [
    "#nltk.download('stopwords')"
   ]
  },
  {
   "cell_type": "markdown",
   "id": "8d779d41",
   "metadata": {},
   "source": [
    "Find The Stop Words\n",
    "==="
   ]
  },
  {
   "cell_type": "code",
   "execution_count": 4,
   "id": "9db8adff",
   "metadata": {},
   "outputs": [
    {
     "data": {
      "text/plain": [
       "['a',\n",
       " 'about',\n",
       " 'above',\n",
       " 'after',\n",
       " 'again',\n",
       " 'against',\n",
       " 'ain',\n",
       " 'all',\n",
       " 'am',\n",
       " 'an',\n",
       " 'and',\n",
       " 'any',\n",
       " 'are',\n",
       " 'aren',\n",
       " \"aren't\",\n",
       " 'as',\n",
       " 'at',\n",
       " 'be',\n",
       " 'because',\n",
       " 'been',\n",
       " 'before',\n",
       " 'being',\n",
       " 'below',\n",
       " 'between',\n",
       " 'both',\n",
       " 'but',\n",
       " 'by',\n",
       " 'can',\n",
       " 'couldn',\n",
       " \"couldn't\",\n",
       " 'd',\n",
       " 'did',\n",
       " 'didn',\n",
       " \"didn't\",\n",
       " 'do',\n",
       " 'does',\n",
       " 'doesn',\n",
       " \"doesn't\",\n",
       " 'doing',\n",
       " 'don',\n",
       " \"don't\",\n",
       " 'down',\n",
       " 'during',\n",
       " 'each',\n",
       " 'few',\n",
       " 'for',\n",
       " 'from',\n",
       " 'further',\n",
       " 'had',\n",
       " 'hadn',\n",
       " \"hadn't\",\n",
       " 'has',\n",
       " 'hasn',\n",
       " \"hasn't\",\n",
       " 'have',\n",
       " 'haven',\n",
       " \"haven't\",\n",
       " 'having',\n",
       " 'he',\n",
       " \"he'd\",\n",
       " \"he'll\",\n",
       " 'her',\n",
       " 'here',\n",
       " 'hers',\n",
       " 'herself',\n",
       " \"he's\",\n",
       " 'him',\n",
       " 'himself',\n",
       " 'his',\n",
       " 'how',\n",
       " 'i',\n",
       " \"i'd\",\n",
       " 'if',\n",
       " \"i'll\",\n",
       " \"i'm\",\n",
       " 'in',\n",
       " 'into',\n",
       " 'is',\n",
       " 'isn',\n",
       " \"isn't\",\n",
       " 'it',\n",
       " \"it'd\",\n",
       " \"it'll\",\n",
       " \"it's\",\n",
       " 'its',\n",
       " 'itself',\n",
       " \"i've\",\n",
       " 'just',\n",
       " 'll',\n",
       " 'm',\n",
       " 'ma',\n",
       " 'me',\n",
       " 'mightn',\n",
       " \"mightn't\",\n",
       " 'more',\n",
       " 'most',\n",
       " 'mustn',\n",
       " \"mustn't\",\n",
       " 'my',\n",
       " 'myself',\n",
       " 'needn',\n",
       " \"needn't\",\n",
       " 'no',\n",
       " 'nor',\n",
       " 'not',\n",
       " 'now',\n",
       " 'o',\n",
       " 'of',\n",
       " 'off',\n",
       " 'on',\n",
       " 'once',\n",
       " 'only',\n",
       " 'or',\n",
       " 'other',\n",
       " 'our',\n",
       " 'ours',\n",
       " 'ourselves',\n",
       " 'out',\n",
       " 'over',\n",
       " 'own',\n",
       " 're',\n",
       " 's',\n",
       " 'same',\n",
       " 'shan',\n",
       " \"shan't\",\n",
       " 'she',\n",
       " \"she'd\",\n",
       " \"she'll\",\n",
       " \"she's\",\n",
       " 'should',\n",
       " 'shouldn',\n",
       " \"shouldn't\",\n",
       " \"should've\",\n",
       " 'so',\n",
       " 'some',\n",
       " 'such',\n",
       " 't',\n",
       " 'than',\n",
       " 'that',\n",
       " \"that'll\",\n",
       " 'the',\n",
       " 'their',\n",
       " 'theirs',\n",
       " 'them',\n",
       " 'themselves',\n",
       " 'then',\n",
       " 'there',\n",
       " 'these',\n",
       " 'they',\n",
       " \"they'd\",\n",
       " \"they'll\",\n",
       " \"they're\",\n",
       " \"they've\",\n",
       " 'this',\n",
       " 'those',\n",
       " 'through',\n",
       " 'to',\n",
       " 'too',\n",
       " 'under',\n",
       " 'until',\n",
       " 'up',\n",
       " 've',\n",
       " 'very',\n",
       " 'was',\n",
       " 'wasn',\n",
       " \"wasn't\",\n",
       " 'we',\n",
       " \"we'd\",\n",
       " \"we'll\",\n",
       " \"we're\",\n",
       " 'were',\n",
       " 'weren',\n",
       " \"weren't\",\n",
       " \"we've\",\n",
       " 'what',\n",
       " 'when',\n",
       " 'where',\n",
       " 'which',\n",
       " 'while',\n",
       " 'who',\n",
       " 'whom',\n",
       " 'why',\n",
       " 'will',\n",
       " 'with',\n",
       " 'won',\n",
       " \"won't\",\n",
       " 'wouldn',\n",
       " \"wouldn't\",\n",
       " 'y',\n",
       " 'you',\n",
       " \"you'd\",\n",
       " \"you'll\",\n",
       " 'your',\n",
       " \"you're\",\n",
       " 'yours',\n",
       " 'yourself',\n",
       " 'yourselves',\n",
       " \"you've\"]"
      ]
     },
     "execution_count": 4,
     "metadata": {},
     "output_type": "execute_result"
    }
   ],
   "source": [
    "# Identify Stopwords\n",
    "from nltk.corpus import stopwords\n",
    "stop = stopwords.words('english')\n",
    "stop"
   ]
  },
  {
   "cell_type": "code",
   "execution_count": 5,
   "id": "374ffb00",
   "metadata": {},
   "outputs": [
    {
     "data": {
      "text/plain": [
       "198"
      ]
     },
     "execution_count": 5,
     "metadata": {},
     "output_type": "execute_result"
    }
   ],
   "source": [
    "len(stop)"
   ]
  },
  {
   "cell_type": "code",
   "execution_count": 6,
   "id": "a51a5e29",
   "metadata": {},
   "outputs": [],
   "source": [
    "#nltk.download('punkt_tab')"
   ]
  },
  {
   "cell_type": "markdown",
   "id": "39b5b3b7",
   "metadata": {},
   "source": [
    "Tokeninzation with N-Grams\n",
    "==="
   ]
  },
  {
   "cell_type": "code",
   "execution_count": 7,
   "id": "3910237f",
   "metadata": {},
   "outputs": [
    {
     "name": "stdout",
     "output_type": "stream",
     "text": [
      "('Luminar', 'technolab')\n",
      "('technolab', 'is')\n",
      "('is', 'a')\n",
      "('a', 'software')\n",
      "('software', 'training')\n",
      "('training', 'institute')\n"
     ]
    }
   ],
   "source": [
    "# tokenization\n",
    "\n",
    "sent = \"Luminar technolab is a software training institute\"\n",
    "\n",
    "from nltk.tokenize import word_tokenize\n",
    "from nltk.util import ngrams\n",
    "ng = ngrams(sequence=nltk.word_tokenize(sent),n=2)\n",
    "for i in ng:\n",
    "    print(i)\n"
   ]
  },
  {
   "cell_type": "code",
   "execution_count": 8,
   "id": "beaf48af",
   "metadata": {},
   "outputs": [],
   "source": [
    "review = '''The Natural Language Toolkit (NLTK) is an open source Python library\n",
    "    for Natural Language Processing.  A free online book is available.'''\n",
    "\n",
    "rev_tok = word_tokenize(review)"
   ]
  },
  {
   "cell_type": "code",
   "execution_count": 9,
   "id": "53766398",
   "metadata": {},
   "outputs": [],
   "source": [
    "final = [i.lower() for i in rev_tok if i.lower() not in stop]\n"
   ]
  },
  {
   "cell_type": "code",
   "execution_count": 10,
   "id": "7271c06a",
   "metadata": {},
   "outputs": [
    {
     "data": {
      "text/plain": [
       "['natural',\n",
       " 'language',\n",
       " 'toolkit',\n",
       " '(',\n",
       " 'nltk',\n",
       " ')',\n",
       " 'open',\n",
       " 'source',\n",
       " 'python',\n",
       " 'library',\n",
       " 'natural',\n",
       " 'language',\n",
       " 'processing',\n",
       " '.',\n",
       " 'free',\n",
       " 'online',\n",
       " 'book',\n",
       " 'available',\n",
       " '.']"
      ]
     },
     "execution_count": 10,
     "metadata": {},
     "output_type": "execute_result"
    }
   ],
   "source": [
    "final"
   ]
  },
  {
   "cell_type": "markdown",
   "id": "5a71b982",
   "metadata": {},
   "source": [
    "Stemming\n",
    "===\n",
    "Two Stemmers are used\n",
    "---\n",
    "* PorterStemmer\n",
    "* SnowballStemmer"
   ]
  },
  {
   "cell_type": "markdown",
   "id": "b1bbd09a",
   "metadata": {},
   "source": [
    "PorterStemmer\n",
    "---"
   ]
  },
  {
   "cell_type": "code",
   "execution_count": 11,
   "id": "57b38c25",
   "metadata": {},
   "outputs": [
    {
     "name": "stdout",
     "output_type": "stream",
     "text": [
      "programs : program\n",
      "reached : reach\n",
      "running : run\n",
      "eating : eat\n",
      "catching : catch\n",
      "throwing : throw\n",
      "jumping : jump\n",
      "bought : bought\n"
     ]
    }
   ],
   "source": [
    "from nltk.stem import PorterStemmer\n",
    "data = PorterStemmer()\n",
    "lst = ['programs','reached','running','eating','catching','throwing','jumping','bought']\n",
    "\n",
    "for i in lst:\n",
    "    print(i,\":\",data.stem(i))"
   ]
  },
  {
   "cell_type": "markdown",
   "id": "19b14947",
   "metadata": {},
   "source": [
    "SnowballStemmer\n",
    "---"
   ]
  },
  {
   "cell_type": "code",
   "execution_count": 12,
   "id": "66323491",
   "metadata": {},
   "outputs": [
    {
     "name": "stdout",
     "output_type": "stream",
     "text": [
      "programs : program\n",
      "reached : reach\n",
      "running : run\n",
      "eating : eat\n",
      "catching : catch\n",
      "throwing : throw\n",
      "jumping : jump\n",
      "bought : bought\n"
     ]
    }
   ],
   "source": [
    "from nltk.stem import SnowballStemmer\n",
    "\n",
    "data = SnowballStemmer(language='english')\n",
    "\n",
    "for i in lst:\n",
    "    print(i,\":\",data.stem(i))"
   ]
  },
  {
   "cell_type": "markdown",
   "id": "0aef2dd2",
   "metadata": {},
   "source": [
    "Lemmatization\n",
    "==="
   ]
  },
  {
   "cell_type": "code",
   "execution_count": 13,
   "id": "3c6413e4",
   "metadata": {},
   "outputs": [
    {
     "name": "stdout",
     "output_type": "stream",
     "text": [
      "Rocks : rock\n",
      "Reaches : reach\n",
      "Running : running\n"
     ]
    }
   ],
   "source": [
    "from nltk.stem import WordNetLemmatizer\n",
    "\n",
    "# nltk.download('wordnet')\n",
    "# nltk.download('omw-1.4')\n",
    "\n",
    "lem = WordNetLemmatizer()\n",
    "print(\"Rocks\",':',lem.lemmatize(\"rocks\"))\n",
    "print(\"Reaches\",':',lem.lemmatize(\"reaches\"))\n",
    "print(\"Running\",':',lem.lemmatize(\"running\"))"
   ]
  },
  {
   "cell_type": "markdown",
   "id": "3c76d259",
   "metadata": {},
   "source": [
    "Removing Special Characters\n",
    "===\n"
   ]
  },
  {
   "cell_type": "code",
   "execution_count": 14,
   "id": "deb9e554",
   "metadata": {},
   "outputs": [
    {
     "data": {
      "text/plain": [
       "'Luminar technolab    is IT finishing school 12345   located   kakkanad '"
      ]
     },
     "execution_count": 14,
     "metadata": {},
     "output_type": "execute_result"
    }
   ],
   "source": [
    "import re\n",
    "str1 = 'Luminar technolab @# is IT finishing school 12345 ! located @ kakkanad!'\n",
    "\n",
    "str2 = re.sub('[^a-zA-Z0-9]',' ',str1)\n",
    "str2"
   ]
  },
  {
   "cell_type": "code",
   "execution_count": 15,
   "id": "8355e609",
   "metadata": {},
   "outputs": [],
   "source": [
    "sentence = '''\n",
    "\n",
    "Great product! I’ve been using it for 3 weeks now, and it’s definitely worth the $25—totally exceeded my expectations.  \n",
    "However, the packaging wasn’t great; there were scratches on the lid & a few dents—maybe improve quality control next time.\n",
    "\n",
    "\n",
    "'''\n",
    "\n"
   ]
  },
  {
   "cell_type": "code",
   "execution_count": 16,
   "id": "17c90ed8",
   "metadata": {},
   "outputs": [],
   "source": [
    "from nltk.corpus import stopwords\n",
    "stopword = stopwords.words('english')"
   ]
  },
  {
   "cell_type": "code",
   "execution_count": 17,
   "id": "ef3c46e8",
   "metadata": {},
   "outputs": [
    {
     "data": {
      "text/plain": [
       "['Great',\n",
       " 'product',\n",
       " '!',\n",
       " '’',\n",
       " 'using',\n",
       " '3',\n",
       " 'weeks',\n",
       " ',',\n",
       " '’',\n",
       " 'definitely',\n",
       " 'worth',\n",
       " '$',\n",
       " '25—totally',\n",
       " 'exceeded',\n",
       " 'expectations',\n",
       " '.',\n",
       " 'However',\n",
       " ',',\n",
       " 'packaging',\n",
       " '’',\n",
       " 'great',\n",
       " ';',\n",
       " 'scratches',\n",
       " 'lid',\n",
       " '&',\n",
       " 'dents—maybe',\n",
       " 'improve',\n",
       " 'quality',\n",
       " 'control',\n",
       " 'next',\n",
       " 'time',\n",
       " '.']"
      ]
     },
     "execution_count": 17,
     "metadata": {},
     "output_type": "execute_result"
    }
   ],
   "source": [
    "from nltk.tokenize import word_tokenize\n",
    "from nltk.util import ngrams\n",
    "\n",
    "tokens = word_tokenize(sentence)\n",
    "\n",
    "lst = [i for i in tokens if i.lower() not in stopword]\n",
    "lst"
   ]
  },
  {
   "cell_type": "code",
   "execution_count": 18,
   "id": "3d41d510",
   "metadata": {},
   "outputs": [],
   "source": [
    "from nltk.stem import PorterStemmer\n",
    "\n",
    "data = PorterStemmer()\n",
    "\n",
    "for i in range(len(lst)):\n",
    "    lst[i] = data.stem(lst[i])\n",
    "\n"
   ]
  },
  {
   "cell_type": "code",
   "execution_count": 19,
   "id": "787f7eb4",
   "metadata": {},
   "outputs": [
    {
     "data": {
      "text/plain": [
       "['great',\n",
       " 'product',\n",
       " '!',\n",
       " '’',\n",
       " 'use',\n",
       " '3',\n",
       " 'week',\n",
       " ',',\n",
       " '’',\n",
       " 'definit',\n",
       " 'worth',\n",
       " '$',\n",
       " '25—total',\n",
       " 'exceed',\n",
       " 'expect',\n",
       " '.',\n",
       " 'howev',\n",
       " ',',\n",
       " 'packag',\n",
       " '’',\n",
       " 'great',\n",
       " ';',\n",
       " 'scratch',\n",
       " 'lid',\n",
       " '&',\n",
       " 'dents—mayb',\n",
       " 'improv',\n",
       " 'qualiti',\n",
       " 'control',\n",
       " 'next',\n",
       " 'time',\n",
       " '.']"
      ]
     },
     "execution_count": 19,
     "metadata": {},
     "output_type": "execute_result"
    }
   ],
   "source": [
    "lst"
   ]
  },
  {
   "cell_type": "code",
   "execution_count": 20,
   "id": "80c45923",
   "metadata": {},
   "outputs": [],
   "source": [
    "lst2 = [re.sub('[^a-zA-Z0-9]','',i)  for i in lst ]"
   ]
  },
  {
   "cell_type": "code",
   "execution_count": 21,
   "id": "11e81430",
   "metadata": {},
   "outputs": [
    {
     "data": {
      "text/plain": [
       "['great',\n",
       " 'product',\n",
       " '',\n",
       " '',\n",
       " 'use',\n",
       " '3',\n",
       " 'week',\n",
       " '',\n",
       " '',\n",
       " 'definit',\n",
       " 'worth',\n",
       " '',\n",
       " '25total',\n",
       " 'exceed',\n",
       " 'expect',\n",
       " '',\n",
       " 'howev',\n",
       " '',\n",
       " 'packag',\n",
       " '',\n",
       " 'great',\n",
       " '',\n",
       " 'scratch',\n",
       " 'lid',\n",
       " '',\n",
       " 'dentsmayb',\n",
       " 'improv',\n",
       " 'qualiti',\n",
       " 'control',\n",
       " 'next',\n",
       " 'time',\n",
       " '']"
      ]
     },
     "execution_count": 21,
     "metadata": {},
     "output_type": "execute_result"
    }
   ],
   "source": [
    "lst2"
   ]
  },
  {
   "cell_type": "code",
   "execution_count": null,
   "id": "ea129ba5",
   "metadata": {},
   "outputs": [],
   "source": []
  },
  {
   "cell_type": "code",
   "execution_count": 22,
   "id": "3e164f04",
   "metadata": {},
   "outputs": [
    {
     "data": {
      "text/plain": [
       "['great',\n",
       " 'product',\n",
       " '!',\n",
       " '’',\n",
       " 'use',\n",
       " '3',\n",
       " 'week',\n",
       " ',',\n",
       " '’',\n",
       " 'definit',\n",
       " 'worth',\n",
       " '$',\n",
       " '25—total',\n",
       " 'exceed',\n",
       " 'expect',\n",
       " '.',\n",
       " 'howev',\n",
       " ',',\n",
       " 'packag',\n",
       " '’',\n",
       " 'great',\n",
       " ';',\n",
       " 'scratch',\n",
       " 'lid',\n",
       " '&',\n",
       " 'dents—mayb',\n",
       " 'improv',\n",
       " 'qualiti',\n",
       " 'control',\n",
       " 'next',\n",
       " 'time',\n",
       " '.']"
      ]
     },
     "execution_count": 22,
     "metadata": {},
     "output_type": "execute_result"
    }
   ],
   "source": [
    "lst"
   ]
  },
  {
   "cell_type": "code",
   "execution_count": null,
   "id": "ff9b992c",
   "metadata": {},
   "outputs": [],
   "source": []
  }
 ],
 "metadata": {
  "kernelspec": {
   "display_name": ".venv",
   "language": "python",
   "name": "python3"
  },
  "language_info": {
   "codemirror_mode": {
    "name": "ipython",
    "version": 3
   },
   "file_extension": ".py",
   "mimetype": "text/x-python",
   "name": "python",
   "nbconvert_exporter": "python",
   "pygments_lexer": "ipython3",
   "version": "3.12.3"
  }
 },
 "nbformat": 4,
 "nbformat_minor": 5
}
