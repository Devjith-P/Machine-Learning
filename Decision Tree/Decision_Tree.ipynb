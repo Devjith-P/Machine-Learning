{
 "cells": [
  {
   "cell_type": "code",
   "execution_count": null,
   "id": "7e439cb1",
   "metadata": {},
   "outputs": [],
   "source": []
  },
  {
   "cell_type": "markdown",
   "id": "3c4873f6",
   "metadata": {},
   "source": [
    "Decision Tree\n",
    "===\n"
   ]
  },
  {
   "cell_type": "markdown",
   "id": "c0288c23",
   "metadata": {},
   "source": []
  }
 ],
 "metadata": {
  "language_info": {
   "name": "python"
  }
 },
 "nbformat": 4,
 "nbformat_minor": 5
}
